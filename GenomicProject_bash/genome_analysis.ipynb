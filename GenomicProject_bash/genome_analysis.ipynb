{
 "cells": [
  {
   "cell_type": "markdown",
   "id": "e473b479-b5b1-4288-ba08-1f2e036cf634",
   "metadata": {},
   "source": [
    "#### Download the genome file of Fusarium graminearum from ensembl genome"
   ]
  },
  {
   "cell_type": "code",
   "execution_count": 2,
   "id": "a9e3ef71-e44f-4398-b296-5ffae20cf5e0",
   "metadata": {},
   "outputs": [
    {
     "name": "stdout",
     "output_type": "stream",
     "text": [
      "--2024-04-14 18:07:43--  ftp://ftp.ensemblgenomes.org/pub/release-51/fungi/fasta/fusarium_graminearum/dna/Fusarium_graminearum.RR1.dna.toplevel.fa.gz\n",
      "           => ‘fusa_genome.fasta.gz’\n",
      "Resolving ftp.ensemblgenomes.org (ftp.ensemblgenomes.org)... 193.62.193.161\n",
      "Connecting to ftp.ensemblgenomes.org (ftp.ensemblgenomes.org)|193.62.193.161|:21... connected.\n",
      "Logging in as anonymous ... Logged in!\n",
      "==> SYST ... done.    ==> PWD ... done.\n",
      "==> TYPE I ... done.  ==> CWD (1) /pub/release-51/fungi/fasta/fusarium_graminearum/dna ... done.\n",
      "==> SIZE Fusarium_graminearum.RR1.dna.toplevel.fa.gz ... 11624507\n",
      "==> PASV ... done.    ==> RETR Fusarium_graminearum.RR1.dna.toplevel.fa.gz ... done.\n",
      "Length: 11624507 (11M) (unauthoritative)\n",
      "\n",
      "Fusarium_graminearu 100%[===================>]  11.09M  6.34MB/s    in 1.7s    \n",
      "\n",
      "2024-04-14 18:07:47 (6.34 MB/s) - ‘fusa_genome.fasta.gz’ saved [11624507]\n",
      "\n"
     ]
    }
   ],
   "source": [
    "! wget ftp://ftp.ensemblgenomes.org/pub/release-51/fungi/fasta/fusarium_graminearum/dna/Fusarium_graminearum.RR1.dna.toplevel.fa.gz -O fusa_genome.fasta.gz"
   ]
  },
  {
   "cell_type": "markdown",
   "id": "886eba35-f643-42b7-99d3-74bb7927a152",
   "metadata": {},
   "source": [
    "#### the size and format of the downloaded file"
   ]
  },
  {
   "cell_type": "code",
   "execution_count": 3,
   "id": "0318844e-9784-4a5a-afdb-bb4bd199ab37",
   "metadata": {},
   "outputs": [
    {
     "name": "stdout",
     "output_type": "stream",
     "text": [
      "12M\tfusa_genome.fasta.gz\n"
     ]
    }
   ],
   "source": [
    "!du -h fusa_genome.fasta.gz"
   ]
  },
  {
   "cell_type": "markdown",
   "id": "05bee876-df49-47dd-be60-ab9af96e2aeb",
   "metadata": {},
   "source": [
    "#### Decompress this file while keeping the compressed version as wel"
   ]
  },
  {
   "cell_type": "code",
   "execution_count": 4,
   "id": "c6598834-66e8-4a35-bd6c-d2e08c409cff",
   "metadata": {},
   "outputs": [],
   "source": [
    "! gunzip -c fusa_genome.fasta.gz > fusa_genome.fasta"
   ]
  },
  {
   "cell_type": "code",
   "execution_count": 5,
   "id": "281c660b-7795-44c4-bc7a-88224329b480",
   "metadata": {},
   "outputs": [
    {
     "name": "stdout",
     "output_type": "stream",
     "text": [
      "12M\tfusa_genome.fasta.gz\n",
      "37M\tfusa_genome.fasta\n"
     ]
    }
   ],
   "source": [
    "! du -h fusa_genome.fasta.gz fusa_genome.fasta"
   ]
  },
  {
   "cell_type": "markdown",
   "id": "77a21ca4-ad33-4277-b25b-54a4791260f0",
   "metadata": {},
   "source": [
    "#### Identify the sequences present in this file along with their identifiers"
   ]
  },
  {
   "cell_type": "code",
   "execution_count": 6,
   "id": "77531a7c-dcd5-454b-9818-14947218ad00",
   "metadata": {},
   "outputs": [
    {
     "name": "stdout",
     "output_type": "stream",
     "text": [
      ">1 dna:chromosome chromosome:RR1:1:1:11760891:1 REF\n",
      ">2 dna:chromosome chromosome:RR1:2:1:8997558:1 REF\n",
      ">3 dna:chromosome chromosome:RR1:3:1:7792947:1 REF\n",
      ">4 dna:chromosome chromosome:RR1:4:1:9395062:1 REF\n",
      ">Mt dna:chromosome chromosome:RR1:Mt:1:95638:1 REF\n",
      ">HG970330 dna:supercontig supercontig:RR1:HG970330:1:5846:1 REF\n",
      "Number of sequences : 6\n"
     ]
    }
   ],
   "source": [
    "! grep '>' fusa_genome.fasta && echo \"Number of sequences : $(grep -c '>' fusa_genome.fasta)\""
   ]
  },
  {
   "cell_type": "markdown",
   "id": "8c14b75c-c21a-45fe-b319-8e0d9a86a33f",
   "metadata": {},
   "source": [
    "#### The size of the genome of Fusarium graminearum"
   ]
  },
  {
   "cell_type": "code",
   "execution_count": 7,
   "id": "83934d30-a2c3-483e-971d-287fc69c7439",
   "metadata": {},
   "outputs": [
    {
     "name": "stdout",
     "output_type": "stream",
     "text": [
      "38047942\n"
     ]
    }
   ],
   "source": [
    "!  grep -v '>' fusa_genome.fasta | tr -d '\\n'| wc -c"
   ]
  },
  {
   "cell_type": "markdown",
   "id": "d10af035-98b0-4b40-a5af-2a30626643bf",
   "metadata": {},
   "source": [
    "#### The number of A/T/G/C bases in the genome"
   ]
  },
  {
   "cell_type": "code",
   "execution_count": 8,
   "id": "c57b0d4d-cc7e-4972-af72-a0f99946171a",
   "metadata": {},
   "outputs": [
    {
     "name": "stdout",
     "output_type": "stream",
     "text": [
      "634136\n"
     ]
    }
   ],
   "source": [
    "! grep -c '[ATCG]' fusa_genome.fasta"
   ]
  },
  {
   "cell_type": "code",
   "execution_count": 9,
   "id": "22939752-3838-4761-88ab-5f0924ac4baf",
   "metadata": {},
   "outputs": [
    {
     "name": "stdout",
     "output_type": "stream",
     "text": [
      "Retrieve the number of A/T/G/C bases from the genome and deduce the overall GC content of Fusarium graminearum.\n",
      "The overall GC content of Fusarium graminearum is: 48.00%\n"
     ]
    }
   ],
   "source": [
    "%%bash\n",
    "echo \"Retrieve the number of A/T/G/C bases from the genome and deduce the overall GC content of Fusarium graminearum.\"\n",
    "\n",
    "# Calculate the total number of nucleotides\n",
    "Total_Nucleotide=$(grep -v '>' fusa_genome.fasta | tr -d '\\n' | wc -c)\n",
    "\n",
    "# Calculate the number of G bases\n",
    "Number_of_Ng=$(grep -v '>' fusa_genome.fasta | tr -d -c 'G' | wc -c)\n",
    "\n",
    "# Calculate the number of C bases\n",
    "Number_of_Nc=$(grep -v '>' fusa_genome.fasta | tr -d -c 'C' | wc -c)\n",
    "\n",
    "# Calculate the sum of G and C counts\n",
    "GC_sum=$((Number_of_Ng + Number_of_Nc))\n",
    "\n",
    "# Calculate the overall GC content\n",
    "GC_content=$(bc -l <<< \"scale=2; ($GC_sum / $Total_Nucleotide) * 100\")\n",
    "\n",
    "echo \"The overall GC content of Fusarium graminearum is: $GC_content%\"\n"
   ]
  },
  {
   "cell_type": "markdown",
   "id": "2083ab77-19c3-4849-8293-c227d63a5466",
   "metadata": {},
   "source": [
    "### We want to use the restriction enzyme BamH1, whose sequence is GGATCC. To guide the insertion of the reporter gene into this site.\n",
    "##### The potential restriction sites are located in the genome."
   ]
  },
  {
   "cell_type": "code",
   "execution_count": 10,
   "id": "204d2a65-335a-4c60-a51a-53d3a0722915",
   "metadata": {},
   "outputs": [
    {
     "name": "stdout",
     "output_type": "stream",
     "text": [
      "6706\n"
     ]
    }
   ],
   "source": [
    "%%bash\n",
    "potential_restriction=$(grep --only-matching GGATCC fusa_genome.fasta | wc -l)\n",
    "echo $potential_restriction"
   ]
  },
  {
   "cell_type": "markdown",
   "id": "b08dbbf1-043d-4195-9c87-9d397595ade0",
   "metadata": {},
   "source": [
    "##### The distance between two BamH1 sites (in Kb)  \"average\""
   ]
  },
  {
   "cell_type": "code",
   "execution_count": 11,
   "id": "b1a9acd1-9e37-43a2-a609-71991d090465",
   "metadata": {},
   "outputs": [
    {
     "name": "stdout",
     "output_type": "stream",
     "text": [
      "/\n"
     ]
    }
   ],
   "source": [
    "%%bash\n",
    "dd=$(expr $Total_Nucleotide / $potential_restriction )\n",
    "echo \"$dd\""
   ]
  },
  {
   "cell_type": "markdown",
   "id": "8f511a73-3e6d-4f6d-a801-1467247f575e",
   "metadata": {},
   "source": [
    "#### Download the structural annotation of Fusarium graminearum"
   ]
  },
  {
   "cell_type": "code",
   "execution_count": 12,
   "id": "e6a4b9c0-75c0-4419-9a65-323acb160b03",
   "metadata": {},
   "outputs": [
    {
     "name": "stdout",
     "output_type": "stream",
     "text": [
      "--2024-04-14 18:07:50--  ftp://ftp.ensemblgenomes.org/pub/release-51/fungi/gff3/fusarium_graminearum/Fusarium_graminearum.RR1.51.chr.gff3.gz\n",
      "           => ‘fusa_annot.gff3.gz’\n",
      "Resolving ftp.ensemblgenomes.org (ftp.ensemblgenomes.org)... 193.62.193.161\n",
      "Connecting to ftp.ensemblgenomes.org (ftp.ensemblgenomes.org)|193.62.193.161|:21... connected.\n",
      "Logging in as anonymous ... Logged in!\n",
      "==> SYST ... done.    ==> PWD ... done.\n",
      "==> TYPE I ... done.  ==> CWD (1) /pub/release-51/fungi/gff3/fusarium_graminearum ... done.\n",
      "==> SIZE Fusarium_graminearum.RR1.51.chr.gff3.gz ... 2010033\n",
      "==> PASV ... done.    ==> RETR Fusarium_graminearum.RR1.51.chr.gff3.gz ... done.\n",
      "Length: 2010033 (1.9M) (unauthoritative)\n",
      "\n",
      "Fusarium_graminearu 100%[===================>]   1.92M  2.14MB/s    in 0.9s    \n",
      "\n",
      "2024-04-14 18:07:52 (2.14 MB/s) - ‘fusa_annot.gff3.gz’ saved [2010033]\n",
      "\n"
     ]
    }
   ],
   "source": [
    "! wget ftp://ftp.ensemblgenomes.org/pub/release-51/fungi/gff3/fusarium_graminearum/Fusarium_graminearum.RR1.51.chr.gff3.gz -O fusa_annot.gff3.gz"
   ]
  },
  {
   "cell_type": "markdown",
   "id": "a8e1db64-2d8a-4720-abf0-3e293fd42850",
   "metadata": {},
   "source": [
    "#### The features described in this GFF3 file"
   ]
  },
  {
   "cell_type": "code",
   "execution_count": 13,
   "id": "0583f341-8b4b-4925-a388-2e08052315a4",
   "metadata": {},
   "outputs": [
    {
     "name": "stdout",
     "output_type": "stream",
     "text": [
      "CDS\n",
      "RNase_MRP_RNA\n",
      "RNase_P_RNA\n",
      "SRP_RNA\n",
      "biological_region\n",
      "chromosome\n",
      "exon\n",
      "five_prime_UTR\n",
      "gene\n",
      "lnc_RNA\n",
      "mRNA\n",
      "ncRNA_gene\n",
      "rRNA\n",
      "snRNA\n",
      "snoRNA\n",
      "tRNA\n",
      "three_prime_UTR\n"
     ]
    }
   ],
   "source": [
    "! zcat fusa_annot.gff3.gz | grep -v '#'|cut -f 3|sort|uniq"
   ]
  },
  {
   "cell_type": "markdown",
   "id": "e3a5a9a5-f897-4d5f-a1ec-b7052d35acb6",
   "metadata": {},
   "source": [
    "####  Types of different features are you counting"
   ]
  },
  {
   "cell_type": "code",
   "execution_count": 14,
   "id": "fb8a2f14-7a77-4490-adc2-1b789ed02753",
   "metadata": {},
   "outputs": [
    {
     "name": "stdout",
     "output_type": "stream",
     "text": [
      "17\n"
     ]
    }
   ],
   "source": [
    "! zcat fusa_annot.gff3.gz | grep -v '#'|cut -f 3|sort|uniq|wc -l"
   ]
  },
  {
   "cell_type": "markdown",
   "id": "97dab532-833a-4603-8c55-8d4789ed6d8a",
   "metadata": {},
   "source": [
    "#### The genes annotated on this genome"
   ]
  },
  {
   "cell_type": "code",
   "execution_count": 15,
   "id": "0fe40e7d-76e8-44f7-bfa1-9c90c4b13839",
   "metadata": {},
   "outputs": [
    {
     "name": "stdout",
     "output_type": "stream",
     "text": [
      "14898\n"
     ]
    }
   ],
   "source": [
    "! zcat fusa_annot.gff3.gz|grep -w gene|grep 'ID=gene'|wc -l "
   ]
  },
  {
   "cell_type": "markdown",
   "id": "1985fcfc-af35-4ca2-a1bc-1872e3bf3019",
   "metadata": {},
   "source": [
    "####  Genes and mRNA annotated on each of the chromosomes"
   ]
  },
  {
   "cell_type": "code",
   "execution_count": 16,
   "id": "a76d6f65-048b-491a-a47c-774dae5342f5",
   "metadata": {},
   "outputs": [
    {
     "name": "stdout",
     "output_type": "stream",
     "text": [
      "   4390 1\tgene\n",
      "   4390 1\tmRNA\n",
      "   3648 2\tgene\n",
      "   3648 2\tmRNA\n",
      "   3085 3\tgene\n",
      "   3085 3\tmRNA\n",
      "   3022 4\tgene\n",
      "   3022 4\tmRNA\n"
     ]
    }
   ],
   "source": [
    "! zcat fusa_annot.gff3.gz|grep -w gene|grep 'biotype=protein_coding'|cut -f1,3|sort|uniq -c"
   ]
  },
  {
   "cell_type": "markdown",
   "id": "8122e99f-8f6c-46b3-abe2-eda902763b35",
   "metadata": {},
   "source": [
    "#### The BED format is a simpler alternative to the GFF format for describing genomic objects, consisting of 4 columns separated by tabs:\n",
    "    * Column 1: chromosome\n",
    "    * Column 2: start of the genomic element described\n",
    "    * Column 3: stop of the genomic element\n",
    "    * Column 4: identifier or name of the genomic element\n",
    "\n",
    "#### We want to extract from the previous GFF file the lines corresponding to genes and convert this information to BED format. This file should be sorted:\n",
    "\n",
    "    * by chromosome\n",
    "    * by coordinate on the chromosome."
   ]
  },
  {
   "cell_type": "markdown",
   "id": "87bedb43-589b-4dde-8066-43f63cd48f52",
   "metadata": {},
   "source": [
    "##### For this, I will use combinations of grep/cut/sed/sort commands and generate the file fusa_genes.bed."
   ]
  },
  {
   "cell_type": "code",
   "execution_count": 26,
   "id": "7182952d-43ed-4137-847b-9f549024b9ab",
   "metadata": {},
   "outputs": [],
   "source": [
    "! zcat fusa_annot.gff3.gz | fgrep -v '#' | cut -f 1,4,5,9 | fgrep 'ID=gene' | cut -d ';' -f1 | sed 's/ID=gene://' | sort -k1,1 -k2,2n> fusa_genes.bed"
   ]
  },
  {
   "cell_type": "code",
   "execution_count": 27,
   "id": "306d072c-c3e8-4faa-a452-fc39400aa364",
   "metadata": {},
   "outputs": [
    {
     "name": "stdout",
     "output_type": "stream",
     "text": [
      "1\t6089\t11000\tFGRAMPH1_01G00001\n",
      "1\t11394\t12168\tFGRAMPH1_01G00003\n",
      "1\t19069\t19668\tFGRAMPH1_01G00005\n",
      "1\t21463\t22193\tFGRAMPH1_01G00007\n",
      "1\t23519\t25108\tFGRAMPH1_01G00009\n"
     ]
    }
   ],
   "source": [
    "! head -n5 fusa_genes.bed"
   ]
  },
  {
   "cell_type": "markdown",
   "id": "069166c6-8bc4-4d20-9cbf-c54700e864ba",
   "metadata": {},
   "source": [
    "##### Add a prefix 'FusaChrom' to the chromosome names using sed directly in the file fusa_genes.bed."
   ]
  },
  {
   "cell_type": "code",
   "execution_count": 28,
   "id": "b401e389-24f4-4aed-acc6-a74dd4b0c726",
   "metadata": {},
   "outputs": [
    {
     "name": "stdout",
     "output_type": "stream",
     "text": [
      "FusaChrom1\t6089\t11000\tFGRAMPH1_01G00001\n",
      "FusaChrom1\t11394\t12168\tFGRAMPH1_01G00003\n",
      "FusaChrom1\t19069\t19668\tFGRAMPH1_01G00005\n",
      "FusaChrom1\t21463\t22193\tFGRAMPH1_01G00007\n",
      "FusaChrom1\t23519\t25108\tFGRAMPH1_01G00009\n"
     ]
    }
   ],
   "source": [
    "! sed -i 's/^/FusaChrom/' fusa_genes.bed\n",
    "! head -n5 fusa_genes.bed"
   ]
  },
  {
   "cell_type": "markdown",
   "id": "9a41630c-2a89-439b-ad5b-f589551cfcfd",
   "metadata": {},
   "source": [
    "##### Retrieve the gene sizes in a file gene_size.tab (column1: gene name, column2: gene size), using the created BED file, and calculate the gene sizes with awk."
   ]
  },
  {
   "cell_type": "code",
   "execution_count": 30,
   "id": "207dbb14-9873-4740-af5f-75896cb242d4",
   "metadata": {},
   "outputs": [
    {
     "name": "stdout",
     "output_type": "stream",
     "text": [
      "FGRAMPH1_01G00001\t4912\n",
      "FGRAMPH1_01G00003\t775\n",
      "FGRAMPH1_01G00005\t600\n",
      "FGRAMPH1_01G00007\t731\n",
      "FGRAMPH1_01G00009\t1590\n"
     ]
    }
   ],
   "source": [
    "! awk 'BEGIN{OFS=\"\\t\"} {genesize=$3-$2+1;print $4,genesize}' fusa_genes.bed > gene_size.tab && head -n5 gene_size.tab"
   ]
  },
  {
   "cell_type": "markdown",
   "id": "5d4ddede-dd9e-42a2-acc9-1064c2cba8c8",
   "metadata": {},
   "source": [
    "##### Calculate the average size of the genes"
   ]
  },
  {
   "cell_type": "code",
   "execution_count": 31,
   "id": "2db39e75-1a7c-4821-8795-9fbcbd02b7a6",
   "metadata": {},
   "outputs": [
    {
     "name": "stdout",
     "output_type": "stream",
     "text": [
      "The average size of the genes : 1686.88\n"
     ]
    }
   ],
   "source": [
    "! awk 'BEGIN{sum=0}{sum+=$2}END{mean=sum/NR;print \"The average size of the genes : \"mean}' gene_size.tab"
   ]
  },
  {
   "cell_type": "markdown",
   "id": "227107a7-f180-42f8-8716-6198ee10b089",
   "metadata": {},
   "source": [
    "##### Genes larger than 5kb are considered particularly large. I will count how many are equal to or larger than 5kb, and how many are smaller than 5kb"
   ]
  },
  {
   "cell_type": "code",
   "execution_count": 33,
   "id": "46d16d1d-7793-4775-817c-c23761dde827",
   "metadata": {},
   "outputs": [
    {
     "name": "stdout",
     "output_type": "stream",
     "text": [
      "Found 14542 genes smaller than 5kb and 356 genes larger than 5kb\n"
     ]
    }
   ],
   "source": [
    "%%bash\n",
    "awk 'BEGIN{smaller5kb=0;larger5kb=0} {if ($2 < 5000) smaller5kb+=1; else \\\n",
    "larger5kb+=1}END {printf \"Found %d genes smaller than 5kb and %d genes larger than \\\n",
    "5kb\\n\",smaller5kb,larger5kb}' gene_size.tab"
   ]
  },
  {
   "cell_type": "markdown",
   "id": "05ed97f1-cc6d-4078-9355-4c5bc77e492a",
   "metadata": {},
   "source": [
    "##### I wish to extract the coordinates of promoters for these genes (2000 bp upstream of the genes). I'll create a file named \"fusa_prom.bed\" containing the coordinates of the promoters of these genes, and we'll name these promoters using the gene name followed by the suffix_prom."
   ]
  },
  {
   "cell_type": "code",
   "execution_count": 34,
   "id": "28dc7d35-40b5-4ccc-8b13-dbe1640d41f6",
   "metadata": {},
   "outputs": [
    {
     "name": "stdout",
     "output_type": "stream",
     "text": [
      "FusaChrom1\t4089\t6088\tFGRAMPH1_01G00001_prom\n",
      "FusaChrom1\t9394\t11393\tFGRAMPH1_01G00003_prom\n",
      "FusaChrom1\t17069\t19068\tFGRAMPH1_01G00005_prom\n",
      "FusaChrom1\t19463\t21462\tFGRAMPH1_01G00007_prom\n",
      "FusaChrom1\t21519\t23518\tFGRAMPH1_01G00009_prom\n"
     ]
    }
   ],
   "source": [
    "%%bash\n",
    "awk 'BEGIN{OFS=\"\\t\"}{print $1,$2-2000,$2-1,$4\"_prom\"}' fusa_genes.bed > fusa_prom.bed\n",
    "awk 'BEGIN{OFS=\"\\t\"}{print $1,$2-2000,$2-1,$4}' fusa_genes.bed | sed 's/$/_prom/' > fusa_prom.bed\n",
    "head -n 5 fusa_prom.bed"
   ]
  }
 ],
 "metadata": {
  "kernelspec": {
   "display_name": "Python 3 (ipykernel)",
   "language": "python",
   "name": "python3"
  },
  "language_info": {
   "codemirror_mode": {
    "name": "ipython",
    "version": 3
   },
   "file_extension": ".py",
   "mimetype": "text/x-python",
   "name": "python",
   "nbconvert_exporter": "python",
   "pygments_lexer": "ipython3",
   "version": "3.8.10"
  }
 },
 "nbformat": 4,
 "nbformat_minor": 5
}
