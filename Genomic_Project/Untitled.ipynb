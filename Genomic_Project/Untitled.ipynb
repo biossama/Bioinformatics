{
 "cells": [
  {
   "cell_type": "code",
   "execution_count": 8,
   "id": "8d97027c-112b-40e1-b669-db1a601cc786",
   "metadata": {},
   "outputs": [
    {
     "name": "stderr",
     "output_type": "stream",
     "text": [
      "'wget' n'est pas reconnu en tant que commande interne\n",
      "ou externe, un programme ex‚cutable ou un fichier de commandes.\n"
     ]
    }
   ],
   "source": [
    "! wget ftp://ftp.ensemblgenomes.org/pub/release-51/fungi/fasta/fusarium_graminearum/dna/Fusarium_graminearum.RR1.dna.toplevel.fa.gz -O fusa_genome.fasta.gz"
   ]
  }
 ],
 "metadata": {
  "kernelspec": {
   "display_name": "Python 3 (ipykernel)",
   "language": "python",
   "name": "python3"
  },
  "language_info": {
   "codemirror_mode": {
    "name": "ipython",
    "version": 3
   },
   "file_extension": ".py",
   "mimetype": "text/x-python",
   "name": "python",
   "nbconvert_exporter": "python",
   "pygments_lexer": "ipython3",
   "version": "3.11.9"
  }
 },
 "nbformat": 4,
 "nbformat_minor": 5
}
