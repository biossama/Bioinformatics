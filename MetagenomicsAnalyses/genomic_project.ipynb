{
 "cells": [
  {
   "cell_type": "markdown",
   "id": "d1ee65fa-44cd-483d-ac6f-aa67bf3a274d",
   "metadata": {},
   "source": [
    "# number of fragment "
   ]
  },
  {
   "cell_type": "code",
   "execution_count": 5,
   "id": "582a9b0a-02d5-4459-a623-b92529d25409",
   "metadata": {},
   "outputs": [
    {
     "name": "stdout",
     "output_type": "stream",
     "text": [
      "1000\n"
     ]
    }
   ],
   "source": [
    "!grep -c '>' fragments1000.faa"
   ]
  },
  {
   "cell_type": "markdown",
   "id": "1cf3766d-58c0-4d5a-a3b4-34cc48a55915",
   "metadata": {},
   "source": [
    "## Calculate the mean and standard deviation for the length of the sequenced fragments."
   ]
  },
  {
   "cell_type": "code",
   "execution_count": 9,
   "id": "79fb5ae4-2da5-4dc7-8d11-0ca4b2a53b7e",
   "metadata": {},
   "outputs": [
    {
     "name": "stdout",
     "output_type": "stream",
     "text": [
      "783.815\n",
      "66.7589\n"
     ]
    }
   ],
   "source": [
    "!grep -v '>' fragments1000.faa | awk '{ s+=length($1)} END{s/=1000; print s}'\n",
    "!grep -v '>' fragments1000.faa | awk '{ s+=(length($1)-783.815)**2} END{s/=1000; f=sqrt(s);print f}'"
   ]
  },
  {
   "cell_type": "markdown",
   "id": "b644d389-29ed-4028-8c5d-f1d193c0f80a",
   "metadata": {},
   "source": [
    "# The number of different nucleotides ATCG."
   ]
  },
  {
   "cell_type": "code",
   "execution_count": 10,
   "id": "c65d1ffb-15a4-4961-9555-0044c8beab1c",
   "metadata": {},
   "outputs": [
    {
     "name": "stdout",
     "output_type": "stream",
     "text": [
      "6171\n"
     ]
    }
   ],
   "source": [
    "!grep -v '>' fragments1000.faa | grep -o -P '[^ATCGatcg]' | wc -l"
   ]
  },
  {
   "cell_type": "markdown",
   "id": "d9192dae-e31d-4206-a13d-dea47db3894b",
   "metadata": {},
   "source": [
    "# The number of sequences containing nucleotides other than ATCG"
   ]
  },
  {
   "cell_type": "code",
   "execution_count": 11,
   "id": "4bd5aa69-0fde-4f4b-892c-b06776f65210",
   "metadata": {},
   "outputs": [
    {
     "name": "stdout",
     "output_type": "stream",
     "text": [
      "899\n"
     ]
    }
   ],
   "source": [
    "!grep -v '>' fragments1000.faa | grep -c -P '[^ATCGatcg]'"
   ]
  },
  {
   "cell_type": "markdown",
   "id": "5d094ceb-ea60-4056-861a-4210762ba7fb",
   "metadata": {},
   "source": [
    "# Calculate the number of BLAST results"
   ]
  },
  {
   "cell_type": "code",
   "execution_count": 12,
   "id": "77b757f5-92e9-4208-984e-a7760ce232ed",
   "metadata": {},
   "outputs": [
    {
     "name": "stdout",
     "output_type": "stream",
     "text": [
      "6182 resultat_Blast1000.tab\n"
     ]
    }
   ],
   "source": [
    "! wc -l resultat_Blast1000.tab"
   ]
  },
  {
   "cell_type": "markdown",
   "id": "3ef2bd70-90ab-4c51-bbbe-927d8424f0af",
   "metadata": {},
   "source": [
    "# Calculate the number of significant BLAST results"
   ]
  },
  {
   "cell_type": "code",
   "execution_count": 13,
   "id": "aee4aef8-ed3e-4b51-9ef2-8705c812e07e",
   "metadata": {},
   "outputs": [
    {
     "name": "stdout",
     "output_type": "stream",
     "text": [
      "4642\n"
     ]
    }
   ],
   "source": [
    "! awk '$11<1e-5 && $12>50 {print $0}' resultat_Blast1000.tab | wc -l"
   ]
  },
  {
   "cell_type": "markdown",
   "id": "e044becc-6712-4116-8cde-69625245c8b9",
   "metadata": {},
   "source": [
    "# Calculate the average of significant BLAST scores"
   ]
  },
  {
   "cell_type": "code",
   "execution_count": 14,
   "id": "95383523-4416-4da1-8714-7d933ca9d3f9",
   "metadata": {},
   "outputs": [
    {
     "name": "stdout",
     "output_type": "stream",
     "text": [
      "183.45\n"
     ]
    }
   ],
   "source": [
    "! awk '$11<1e-5 && $12>50 {sc+=$12; nc++} END{m=sc/nc; print m}' resultat_Blast1000.tab "
   ]
  },
  {
   "cell_type": "markdown",
   "id": "eabf8fe0-8385-4e5b-8609-34895b05f5bf",
   "metadata": {},
   "source": [
    "# Calculate the number of fragments having at least one sequence significantly similar in KEGG"
   ]
  },
  {
   "cell_type": "code",
   "execution_count": 15,
   "id": "d305cd72-8736-4cff-b00b-509b44ec37cc",
   "metadata": {},
   "outputs": [
    {
     "name": "stdout",
     "output_type": "stream",
     "text": [
      "866\n"
     ]
    }
   ],
   "source": [
    "! awk '$11<1e-5 && $12>50 {print $1}' resultat_Blast1000.tab | sort | uniq | wc -l"
   ]
  },
  {
   "cell_type": "markdown",
   "id": "f549bce6-88e6-4bbb-837c-3fb913e644be",
   "metadata": {},
   "source": [
    "# Calculate the number of clones having at least one sequence significantly similar in KEGG"
   ]
  },
  {
   "cell_type": "code",
   "execution_count": 16,
   "id": "28edc23f-bcd8-49ff-8ffa-061fc882e86b",
   "metadata": {},
   "outputs": [
    {
     "name": "stdout",
     "output_type": "stream",
     "text": [
      "460\n"
     ]
    }
   ],
   "source": [
    "! awk '$11<1e-5 && $12>50 {print $1}' resultat_Blast1000.tab | awk -F\"_\" '{print $1}' | sort | uniq | wc -l"
   ]
  },
  {
   "cell_type": "markdown",
   "id": "5650302c-82c2-4fb5-9b59-1ae94ff14251",
   "metadata": {},
   "source": [
    "# Display the top 5 alignments with the best BLAST scores"
   ]
  },
  {
   "cell_type": "code",
   "execution_count": 17,
   "id": "7fcba7cc-a050-4828-a0c5-af780e948d05",
   "metadata": {},
   "outputs": [
    {
     "name": "stdout",
     "output_type": "stream",
     "text": [
      "529 clone125_deb\tpne:Pnec_0530\t89.83\t295\t30\t0\t887\t3\t222\t516\t8e-149\t 529\n",
      "525 clone125_deb\tpnu:Pnuc_1422\t89.15\t295\t32\t0\t887\t3\t222\t516\t1e-147\t 525\n",
      "503 clone372_deb\tmpt:Mpe_A1406\t89.10\t266\t29\t0\t799\t2\t1\t266\t5e-141\t 503\n",
      "503 clone151_fin\trfr:Rfer_1571\t91.14\t271\t19\t1\t825\t28\t1\t271\t4e-141\t 503\n",
      "502 clone125_deb\tmms:mma_2032\t84.04\t307\t37\t3\t887\t3\t215\t520\t8e-141\t 502\n",
      "sort: write failed: 'standard output': Broken pipe\n",
      "sort: write error\n"
     ]
    }
   ],
   "source": [
    "! awk '$11<1e-5 && $12>50 {print $12,$0}' resultat_Blast1000.tab | sort -rn | head -5"
   ]
  },
  {
   "cell_type": "markdown",
   "id": "d11c7de7-66ab-460c-9327-9c536cfbaeec",
   "metadata": {},
   "source": [
    "# How many metabolic pathways are documented in KEGG"
   ]
  },
  {
   "cell_type": "code",
   "execution_count": 18,
   "id": "46c06841-731f-4b71-a33a-7e283a76cdf6",
   "metadata": {},
   "outputs": [
    {
     "name": "stdout",
     "output_type": "stream",
     "text": [
      "278\n"
     ]
    }
   ],
   "source": [
    "! grep -P -c '^C\\s+\\d+' pathways"
   ]
  },
  {
   "cell_type": "markdown",
   "id": "fb79b166-c1a3-4a7b-9795-87c797f31499",
   "metadata": {},
   "source": [
    "# What proportion of KEGG genes are affiliated with orthologous groups ? => 59,94%"
   ]
  },
  {
   "cell_type": "code",
   "execution_count": 30,
   "id": "eee85d33-84c0-402f-b317-cd5a8e413d4c",
   "metadata": {},
   "outputs": [
    {
     "name": "stdout",
     "output_type": "stream",
     "text": [
      "4743 annotation_genes\n"
     ]
    }
   ],
   "source": [
    "! wc -l annotation_genes\n",
    "! grep -P -c '; K[01]\\d{4} ' annotation_genes"
   ]
  },
  {
   "cell_type": "markdown",
   "id": "91424087-bcaa-4911-8a89-3f3b580eb171",
   "metadata": {},
   "source": [
    "# What proportion of KEGG genes are affiliated with at least one metabolic pathway?"
   ]
  },
  {
   "cell_type": "code",
   "execution_count": null,
   "id": "684fb4f2-a2e7-429e-8635-2c9cdc675f5d",
   "metadata": {},
   "outputs": [],
   "source": [
    "! grep -P -c '; ko\\d{5}' annotation_genes"
   ]
  },
  {
   "cell_type": "markdown",
   "id": "45a0a386-edb3-4d8c-91eb-e1d0bce787a6",
   "metadata": {},
   "source": [
    "# The name of the most prevalent pathway in KEGG gene annotation"
   ]
  },
  {
   "cell_type": "code",
   "execution_count": null,
   "id": "97f6415b-0470-4861-a161-fca490b550a4",
   "metadata": {},
   "outputs": [],
   "source": [
    "! grep -P -o 'ko\\d{5}' annotation_genes | sort | uniq -c | sort -rn | head -5 "
   ]
  }
 ],
 "metadata": {
  "kernelspec": {
   "display_name": "Python 3 (ipykernel)",
   "language": "python",
   "name": "python3"
  },
  "language_info": {
   "codemirror_mode": {
    "name": "ipython",
    "version": 3
   },
   "file_extension": ".py",
   "mimetype": "text/x-python",
   "name": "python",
   "nbconvert_exporter": "python",
   "pygments_lexer": "ipython3",
   "version": "3.11.9"
  }
 },
 "nbformat": 4,
 "nbformat_minor": 5
}
